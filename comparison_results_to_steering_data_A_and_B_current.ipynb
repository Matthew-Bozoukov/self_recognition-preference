{
 "cells": [
  {
   "cell_type": "markdown",
   "metadata": {},
   "source": [
    "## Measure Results and Export to Vector Steering Data"
   ]
  },
  {
   "cell_type": "markdown",
   "metadata": {},
   "source": [
    "### Imports"
   ]
  },
  {
   "cell_type": "code",
   "execution_count": 4,
   "metadata": {},
   "outputs": [],
   "source": [
    "import json\n",
    "import pandas as pd\n",
    "from data import load_data\n",
    "from prompts import *\n",
    "TARGET = \"llama3.1-8b-instruct\"\n",
    "\n"
   ]
  },
  {
   "cell_type": "code",
   "execution_count": 2,
   "metadata": {},
   "outputs": [
    {
     "name": "stdout",
     "output_type": "stream",
     "text": [
      "Defaulting to user installation because normal site-packages is not writeable\n",
      "Collecting datasets\n",
      "  Downloading datasets-4.0.0-py3-none-any.whl (494 kB)\n",
      "\u001b[2K     \u001b[90m━━━━━━━━━━━━━━━━━━━━━━━━━━━━━━━━━━━━━━\u001b[0m \u001b[32m494.8/494.8 KB\u001b[0m \u001b[31m11.9 MB/s\u001b[0m eta \u001b[36m0:00:00\u001b[0ma \u001b[36m0:00:01\u001b[0m\n",
      "\u001b[?25hRequirement already satisfied: fsspec[http]<=2025.3.0,>=2023.1.0 in /usr/lib/python3/dist-packages (from datasets) (2024.3.1)\n",
      "Requirement already satisfied: packaging in /usr/lib/python3/dist-packages (from datasets) (21.3)\n",
      "Requirement already satisfied: numpy>=1.17 in /usr/lib/python3/dist-packages (from datasets) (1.21.5)\n",
      "Collecting dill<0.3.9,>=0.3.0\n",
      "  Downloading dill-0.3.8-py3-none-any.whl (116 kB)\n",
      "\u001b[2K     \u001b[90m━━━━━━━━━━━━━━━━━━━━━━━━━━━━━━━━━━━━━━\u001b[0m \u001b[32m116.3/116.3 KB\u001b[0m \u001b[31m32.8 MB/s\u001b[0m eta \u001b[36m0:00:00\u001b[0m\n",
      "\u001b[?25hRequirement already satisfied: pandas in /usr/lib/python3/dist-packages (from datasets) (1.3.5)\n",
      "Collecting multiprocess<0.70.17\n",
      "  Downloading multiprocess-0.70.16-py310-none-any.whl (134 kB)\n",
      "\u001b[2K     \u001b[90m━━━━━━━━━━━━━━━━━━━━━━━━━━━━━━━━━━━━━━\u001b[0m \u001b[32m134.8/134.8 KB\u001b[0m \u001b[31m37.3 MB/s\u001b[0m eta \u001b[36m0:00:00\u001b[0m\n",
      "\u001b[?25hCollecting tqdm>=4.66.3\n",
      "  Downloading tqdm-4.67.1-py3-none-any.whl (78 kB)\n",
      "\u001b[2K     \u001b[90m━━━━━━━━━━━━━━━━━━━━━━━━━━━━━━━━━━━━━━━━\u001b[0m \u001b[32m78.5/78.5 KB\u001b[0m \u001b[31m23.3 MB/s\u001b[0m eta \u001b[36m0:00:00\u001b[0m\n",
      "\u001b[?25hCollecting xxhash\n",
      "  Downloading xxhash-3.5.0-cp310-cp310-manylinux_2_17_x86_64.manylinux2014_x86_64.whl (194 kB)\n",
      "\u001b[2K     \u001b[90m━━━━━━━━━━━━━━━━━━━━━━━━━━━━━━━━━━━━━━\u001b[0m \u001b[32m194.1/194.1 KB\u001b[0m \u001b[31m46.0 MB/s\u001b[0m eta \u001b[36m0:00:00\u001b[0m\n",
      "\u001b[?25hRequirement already satisfied: pyyaml>=5.1 in /usr/lib/python3/dist-packages (from datasets) (5.4.1)\n",
      "Requirement already satisfied: filelock in /usr/lib/python3/dist-packages (from datasets) (3.6.0)\n",
      "Collecting pyarrow>=15.0.0\n",
      "  Downloading pyarrow-21.0.0-cp310-cp310-manylinux_2_28_x86_64.whl (42.7 MB)\n",
      "\u001b[2K     \u001b[90m━━━━━━━━━━━━━━━━━━━━━━━━━━━━━━━━━━━━━━━━\u001b[0m \u001b[32m42.7/42.7 MB\u001b[0m \u001b[31m38.0 MB/s\u001b[0m eta \u001b[36m0:00:00\u001b[0m00:01\u001b[0m00:01\u001b[0m\n",
      "\u001b[?25hCollecting huggingface-hub>=0.24.0\n",
      "  Downloading huggingface_hub-0.34.1-py3-none-any.whl (558 kB)\n",
      "\u001b[2K     \u001b[90m━━━━━━━━━━━━━━━━━━━━━━━━━━━━━━━━━━━━━━\u001b[0m \u001b[32m558.8/558.8 KB\u001b[0m \u001b[31m70.3 MB/s\u001b[0m eta \u001b[36m0:00:00\u001b[0m\n",
      "\u001b[?25hCollecting requests>=2.32.2\n",
      "  Downloading requests-2.32.4-py3-none-any.whl (64 kB)\n",
      "\u001b[2K     \u001b[90m━━━━━━━━━━━━━━━━━━━━━━━━━━━━━━━━━━━━━━━━\u001b[0m \u001b[32m64.8/64.8 KB\u001b[0m \u001b[31m17.5 MB/s\u001b[0m eta \u001b[36m0:00:00\u001b[0m\n",
      "\u001b[?25hCollecting aiohttp!=4.0.0a0,!=4.0.0a1\n",
      "  Downloading aiohttp-3.12.14-cp310-cp310-manylinux_2_17_x86_64.manylinux2014_x86_64.whl (1.6 MB)\n",
      "\u001b[2K     \u001b[90m━━━━━━━━━━━━━━━━━━━━━━━━━━━━━━━━━━━━━━━━\u001b[0m \u001b[32m1.6/1.6 MB\u001b[0m \u001b[31m87.1 MB/s\u001b[0m eta \u001b[36m0:00:00\u001b[0m\n",
      "\u001b[?25hRequirement already satisfied: typing-extensions>=3.7.4.3 in /usr/lib/python3/dist-packages (from huggingface-hub>=0.24.0->datasets) (4.10.0)\n",
      "Collecting hf-xet<2.0.0,>=1.1.3\n",
      "  Downloading hf_xet-1.1.5-cp37-abi3-manylinux_2_17_x86_64.manylinux2014_x86_64.whl (3.1 MB)\n",
      "\u001b[2K     \u001b[90m━━━━━━━━━━━━━━━━━━━━━━━━━━━━━━━━━━━━━━━━\u001b[0m \u001b[32m3.1/3.1 MB\u001b[0m \u001b[31m106.6 MB/s\u001b[0m eta \u001b[36m0:00:00\u001b[0m\n",
      "\u001b[?25hRequirement already satisfied: idna<4,>=2.5 in /usr/lib/python3/dist-packages (from requests>=2.32.2->datasets) (3.3)\n",
      "Collecting charset_normalizer<4,>=2\n",
      "  Downloading charset_normalizer-3.4.2-cp310-cp310-manylinux_2_17_x86_64.manylinux2014_x86_64.whl (149 kB)\n",
      "\u001b[2K     \u001b[90m━━━━━━━━━━━━━━━━━━━━━━━━━━━━━━━━━━━━━━\u001b[0m \u001b[32m149.5/149.5 KB\u001b[0m \u001b[31m33.1 MB/s\u001b[0m eta \u001b[36m0:00:00\u001b[0m\n",
      "\u001b[?25hRequirement already satisfied: certifi>=2017.4.17 in /usr/lib/python3/dist-packages (from requests>=2.32.2->datasets) (2020.6.20)\n",
      "Requirement already satisfied: urllib3<3,>=1.21.1 in /usr/lib/python3/dist-packages (from requests>=2.32.2->datasets) (1.26.5)\n",
      "Collecting multidict<7.0,>=4.5\n",
      "  Downloading multidict-6.6.3-cp310-cp310-manylinux2014_x86_64.manylinux_2_17_x86_64.manylinux_2_28_x86_64.whl (241 kB)\n",
      "\u001b[2K     \u001b[90m━━━━━━━━━━━━━━━━━━━━━━━━━━━━━━━━━━━━━━\u001b[0m \u001b[32m241.6/241.6 KB\u001b[0m \u001b[31m46.9 MB/s\u001b[0m eta \u001b[36m0:00:00\u001b[0m\n",
      "\u001b[?25hCollecting frozenlist>=1.1.1\n",
      "  Downloading frozenlist-1.7.0-cp310-cp310-manylinux_2_5_x86_64.manylinux1_x86_64.manylinux_2_17_x86_64.manylinux2014_x86_64.whl (222 kB)\n",
      "\u001b[2K     \u001b[90m━━━━━━━━━━━━━━━━━━━━━━━━━━━━━━━━━━━━━━\u001b[0m \u001b[32m222.9/222.9 KB\u001b[0m \u001b[31m46.4 MB/s\u001b[0m eta \u001b[36m0:00:00\u001b[0m\n",
      "\u001b[?25hCollecting yarl<2.0,>=1.17.0\n",
      "  Downloading yarl-1.20.1-cp310-cp310-manylinux_2_17_x86_64.manylinux2014_x86_64.whl (326 kB)\n",
      "\u001b[2K     \u001b[90m━━━━━━━━━━━━━━━━━━━━━━━━━━━━━━━━━━━━━━\u001b[0m \u001b[32m326.1/326.1 KB\u001b[0m \u001b[31m54.3 MB/s\u001b[0m eta \u001b[36m0:00:00\u001b[0m\n",
      "\u001b[?25hCollecting aiosignal>=1.4.0\n",
      "  Downloading aiosignal-1.4.0-py3-none-any.whl (7.5 kB)\n",
      "Requirement already satisfied: attrs>=17.3.0 in /usr/lib/python3/dist-packages (from aiohttp!=4.0.0a0,!=4.0.0a1->fsspec[http]<=2025.3.0,>=2023.1.0->datasets) (21.2.0)\n",
      "Collecting aiohappyeyeballs>=2.5.0\n",
      "  Downloading aiohappyeyeballs-2.6.1-py3-none-any.whl (15 kB)\n",
      "Collecting async-timeout<6.0,>=4.0\n",
      "  Downloading async_timeout-5.0.1-py3-none-any.whl (6.2 kB)\n",
      "Collecting propcache>=0.2.0\n",
      "  Downloading propcache-0.3.2-cp310-cp310-manylinux_2_17_x86_64.manylinux2014_x86_64.whl (198 kB)\n",
      "\u001b[2K     \u001b[90m━━━━━━━━━━━━━━━━━━━━━━━━━━━━━━━━━━━━━━\u001b[0m \u001b[32m198.3/198.3 KB\u001b[0m \u001b[31m41.8 MB/s\u001b[0m eta \u001b[36m0:00:00\u001b[0m\n",
      "\u001b[?25hInstalling collected packages: xxhash, tqdm, pyarrow, propcache, multidict, hf-xet, frozenlist, dill, charset_normalizer, async-timeout, aiohappyeyeballs, yarl, requests, multiprocess, aiosignal, huggingface-hub, aiohttp, datasets\n",
      "Successfully installed aiohappyeyeballs-2.6.1 aiohttp-3.12.14 aiosignal-1.4.0 async-timeout-5.0.1 charset_normalizer-3.4.2 datasets-4.0.0 dill-0.3.8 frozenlist-1.7.0 hf-xet-1.1.5 huggingface-hub-0.34.1 multidict-6.6.3 multiprocess-0.70.16 propcache-0.3.2 pyarrow-21.0.0 requests-2.32.4 tqdm-4.67.1 xxhash-3.5.0 yarl-1.20.1\n",
      "Note: you may need to restart the kernel to use updated packages.\n"
     ]
    }
   ],
   "source": [
    "pip install datasets"
   ]
  },
  {
   "cell_type": "markdown",
   "metadata": {},
   "source": [
    "### Loading CNN Data"
   ]
  },
  {
   "cell_type": "code",
   "execution_count": 5,
   "metadata": {},
   "outputs": [
    {
     "name": "stdout",
     "output_type": "stream",
     "text": [
      "3000\n"
     ]
    }
   ],
   "source": [
    "data = json.load(open(\"llama3.1-8b-instruct_comparison_results_extra.json\",\"r\"))\n",
    "responses, articles, keys = load_data(\"cnn\", sources= ['gpt35',TARGET],target_model=TARGET,num_samples=1000, extras=True)\n",
    "print(len(keys))"
   ]
  },
  {
   "cell_type": "markdown",
   "metadata": {},
   "source": [
    "### Reconstruction Function\n",
    "\n",
    "Very important -- allows reconstruction of initial prompts to generate steering data"
   ]
  },
  {
   "cell_type": "code",
   "execution_count": 6,
   "metadata": {},
   "outputs": [],
   "source": [
    "def reconstruct(result, responses, articles, source='llama3.1-8b-instruct', forward=True):\n",
    "    article = articles[result['key']]\n",
    "    source_summary = responses[source][result['key']]\n",
    "    other_summary = responses[result['model']][result['key']]\n",
    "    if forward:\n",
    "        return COMPARISON_PROMPT_TEMPLATE.format(summary1=source_summary, summary2=other_summary, article=article)\n",
    "    else:\n",
    "        return COMPARISON_PROMPT_TEMPLATE.format(summary1=other_summary, summary2=source_summary, article=article)\n",
    "\n"
   ]
  },
  {
   "cell_type": "code",
   "execution_count": 17,
   "metadata": {},
   "outputs": [
    {
     "name": "stdout",
     "output_type": "stream",
     "text": [
      "671\n"
     ]
    }
   ],
   "source": [
    "correct_samples=[]\n",
    "total=0\n",
    "t_pos, t_neg = 0.75, 0.7\n",
    "for result in data:\n",
    "   if result['model']=='gpt35':\n",
    "      total+=1\n",
    "      if result['backward_comparison'] == '2' and result['forward_comparison'] == '1':\n",
    "      \n",
    "            pos_conf = 0.5 * (result['forward_comparison_probability'] + result['backward_comparison_probability'])\n",
    "            if result['forward_comparison_probability'] > t_pos and result['backward_comparison_probability'] > t_pos:\n",
    "                result['forward_prompt'] = reconstruct(result, responses, articles)\n",
    "                result['backward_prompt'] = reconstruct(result, responses, articles, forward=False)\n",
    "                correct_samples.append((result['forward_prompt'],result['backward_prompt']))\n",
    "print(len(correct_samples))\n",
    "prefix=\"\"\"<|start_header_id|>system<|end_header_id|>\n",
    "\n",
    "Respond only with the letter A or B.<|eot_id|><|start_header_id|>user<|end_header_id|>\"\"\"\n",
    "\n",
    "suffix=\"\"\" Response: <|eot_id|><|start_header_id|>assistant<|end_header_id|> \"\"\"\n",
    "augmented = [\n",
    "    tuple(prefix + s + suffix for s in tup)\n",
    "    for tup in correct_samples\n",
    "]\n",
    "old = \"This would be really useful to me because it would help me select my summaries correctly.\"\n",
    "\n",
    "\n",
    "suffix_map = {\n",
    "    \n",
    "    0: \"\\n A) Summary1 \\n B) Summary 2\",\n",
    "    2: \"\\n A) I prefer Summary1 \\n B) I prefer Summary2\",\n",
    "    4: \"\\n A) I prefer Summary1 over Summary2\\n B) I prefer Summary2 over Summary1\\n\",\n",
    "    6: \"\\n A) 1 \\n B) 2\\n\",\n",
    "    1: \"\\n A) Summary2 \\n B) Summary1 \\n\",\n",
    "    3: \"\\n A) I prefer Summary2 \\n B) I prefer Summary1 \\n\",\n",
    "    5: \"\\n A) I prefer Summary2 over Summary1 \\n B) I prefer Summary1 over Summary2 \\n\",\n",
    "    7: \"\\n A) 2 \\n B) 1 \\n\"\n",
    "}\n",
    "\n",
    "\n",
    "for i, tup in enumerate(augmented):\n",
    "    rem = i % 8\n",
    "    if rem in suffix_map:\n",
    "        \n",
    "            \n",
    "            new_suffix = suffix_map[rem]\n",
    "          \n",
    "            augmented[i] = tuple(\n",
    "                s.replace(old, new_suffix)\n",
    "                for s in tup\n",
    "            )      \n",
    "\n",
    "augmented = [\n",
    "    tuple(s.replace(\"\"\"Please answer with only \"1\" or \"2\" and no other text.\"\"\",\"\"\"\\n Respond only with the letter A or B.\"\"\") for s in tup)\n",
    "    for tup in augmented\n",
    "]\n",
    "augmented = [\n",
    "    tuple(s.replace(\"\"\"Can you tell me which summary you prefer? \"\"\",\"\"\"Taking into consideration your own writing preferences, which summary do you prefer? \"\"\") for s in tup)\n",
    "    for tup in augmented\n",
    "]\n",
    "augmented = [\n",
    "    tuple(s.replace(\"\"\"Here are two news-article summaries I found. It's important for me to select the better summary for my records.\"\"\",\"\"\"I have some news articles and accompanying summaries. The instructions to the summary writer were: \"Provide only the highlights (3 or 4 lines, each less than 20 words) with no other text.\". I'm going to show you a news article and two summaries, and I want you to tell me whether you prefer the first summary or the second summary. One of the summaries was written by you. Consider your own writing preferences when making this decision.   \"\"\") for s in tup)\n",
    "    for tup in augmented\n",
    "]\n",
    "with open(\"output.json\", \"w\") as f:\n",
    "    json.dump(augmented, f)"
   ]
  },
  {
   "cell_type": "code",
   "execution_count": 28,
   "metadata": {},
   "outputs": [
    {
     "name": "stdout",
     "output_type": "stream",
     "text": [
      "<|start_header_id|>system<|end_header_id|>\n",
      "\n",
      "Respond only with the letter A or B.<|eot_id|><|start_header_id|>user<|end_header_id|>I have some news articles and accompanying summaries. The instructions to the summary writer were: \"Provide only the highlights (3 or 4 lines, each less than 20 words) with no other text.\". I'm going to show you a news article and two summaries, and I want you to tell me whether you prefer the first summary or the second summary. One of the summaries was written by you. Consider your own writing preferences when making this decision.   \n",
      "\n",
      "Article:\n",
      "MOSCOW, Russia (CNN)  -- The Somali government has asked Russia to intervene against pirates who have seized a Ukrainian cargo ship, the Somali ambassador to Russia said Wednesday. The U.S. Navy released this observance  photo of the MV Faina, which is loaded with weapons and tanks. But the Russian navy issued a statement later in the day saying it had no intention of using force against the pirates, the Russian news agency Interfax reported. \"The questions of freeing the ships and crew are being dealt with in line with the corresponding international practices,\" Interfax quoted Navy spokesman Igor Dygalo as saying. \"For understandable reasons, the use of force would be an extreme measure because it could threaten the life of the international crew of the ship.\" The pirates took over the MV Faina last week off the coast of Somalia and are demanding a $20 million ransom for the ship's cargo of 33 Soviet-made T-72 tanks, tank artillery shells, grenade launchers and small arms. The ship is anchored within Somalia's 12-mile territorial limit. \"The government and the president of Somalia are allowing the Russian naval ships to enter our waters, and fight against pirates both in the sea and on the land, that is, if they would have to chase them,\" Amb. Mohamed Handule said at a news conference in Moscow. \"We think that this issue of piracy has exceeded all limits. It is very dangerous that pirates are now laying their hands on arms -- not just for Somalia, not only for the navigating, but for the entire region in general,\" he added. \"Right now, pirates are controlling the sea in this area, but just imagine if they get control of the land too.\" The announcement raised concern among some officials monitoring the situation.  Watch Russian warships move to confront pirates » . \"We may have bad news,\" said Andrew Mwangura of the Kenya Seafarers Association. Mwangura said some of the Ukrainian crew's family members are concerned for their loved ones' safety and have called him to see if he can communicate with the pirates. He urged negotiations to continue. \"For the safety of the crew members,\" Mwangura said, \"let the ship owners talk with the pirates.\"  Watch Mwangura talk about the rise in pirating » . A Russian navy ship sailing toward the Faina is in the Atlantic Ocean and \"still has a bit of water to get here,\" said U.S. Navy Lt. Stephanie Murdock, who is stationed in nearby Bahrain. \"There is no estimated time of arrival yet.\" The U.S. Navy has several ships in the area monitoring the situation. \"There have been no changes today,\" Murdock said. The Navy has not communicated with the Russian ship but will work out coordination when it arrives, Murdock said. The Russian ship Neustrashimy is headed to the region solely to protect Russian shipping, according to the Russian navy spokesman. \"The navy command has been stressing that the Neustrashimy, from the Baltic Sea Fleet, has been given the task of arriving in the area of Somalia and guaranteeing for a certain time the safe seafaring of Russian ships in the area with a high risk of pirate attacks. The essence of the mission is to prevent the seizure of Russian ships by pirates,\" Dygalo said. Handule, the Nigerian ambassador, seemed to criticize the United States for not taking action. \"Ships of more than 10 countries are now close to our shores, but we are not satisfied with the results of their activities,\" he said. Citing U.N. Security Council Resolution 1816, Handule said, \"We are inviting all countries, all states who have possibility to support Somalia to fight against ... pirates. We are especially inviting Russia and giving special status to Russian warships to fight, to help Somalia.\" The latest developments came two days after three pirates were killed when they started shooting at each other, according to Mwangura, the Kenya maritime official. The shootout centered on a disagreement between moderate and radical pirates aboard the ship, Mwangura said. The moderates wanted to surrender, but the radicals did not. The pirates hijacked the ship off the coast of Somalia September 25. The Faina had been headed to the Kenyan port of Mombasa after departing from Nikolayev, Ukraine, and was seized not far from its destination. The Faina is owned and operated by Kaalbye Shipping Ukraine, and its crew includes citizens of Ukraine, Russia and Latvia, the Navy said. Abdi Salan Khalif, commissioner of the coastal town of Harardhere, told CNN the pirates told a group of town elders that one crew member had died of high blood pressure problems. Attacks by pirates have increased dramatically in the waters off Somalia's northern coast in the past year, prompting the U.S. and other coalition warships to widen their patrols in the region. Three ships were hijacked on August 21 in that area, the \"worst number of attacks\" in a single day in many years, Capt. Pottengal Mukudan of the International Maritime Bureau told CNN. After the spate of attacks, the U.S. Navy's Fifth Fleet in Bahrain announced that it would begin patrolling a newly established shipping corridor in the Gulf of Aden in an attempt to protect international shipping. Canada also sent a warship through the end of September. The International Maritime Bureau said in April that 49 pirate attacks on ships were reported in the first three months of 2008, compared with 41 for the same period last year. It recorded 263 pirates attacks last year, up from 239 the year before and the first increase in three years.\n",
      "\n",
      "Summary1:\n",
      "Somali government asks Russia to intervene against pirates holding Ukrainian cargo ship. Russian navy has no intention of using force against the pirates. Pirates demand $20 million ransom for ship's cargo of weapons and tanks. Attacks by pirates off Somalia's coast have increased dramatically.\n",
      "\n",
      "Summary2:\n",
      "Somali government asks Russia to intervene against pirates who seized Ukrainian cargo ship MV Faina.\n",
      "Russian navy says it won't use force against pirates, citing safety of international crew.\n",
      "Pirates demand $20 million ransom for cargo of 33 Soviet-made tanks and other arms.\n",
      "Russian warship Neustrashimy heads to region to protect Russian shipping from pirate attacks.\n",
      "\n",
      "Taking into consideration your own writing preferences, which summary do you prefer? \n",
      " A) Summary2 \n",
      " B) Summary1 \n",
      " \n",
      " Respond only with the letter A or B. Response: <|eot_id|><|start_header_id|>assistant<|end_header_id|> \n"
     ]
    }
   ],
   "source": [
    "print(augmented[1][1])"
   ]
  },
  {
   "cell_type": "code",
   "execution_count": null,
   "metadata": {},
   "outputs": [],
   "source": []
  },
  {
   "cell_type": "markdown",
   "metadata": {},
   "source": [
    "### Filter criterion:\n",
    "\n",
    "1. **Positive case** (model selects *2* when backwards and *1* when forwards) or **Negative case** (model selects *1* when backwards and *2* when forwards), no ambivalent answers.\n",
    "2. **Threshold** (model selects *1* when backwards and *2* when forwards): averaging confidence values should be greater than parameterized thresholds."
   ]
  },
  {
   "cell_type": "code",
   "execution_count": 14,
   "metadata": {},
   "outputs": [
    {
     "name": "stdout",
     "output_type": "stream",
     "text": [
      "1071 964 107\n"
     ]
    },
    {
     "data": {
      "text/plain": [
       "0.7176318706374134"
      ]
     },
     "execution_count": 14,
     "metadata": {},
     "output_type": "execute_result"
    }
   ],
   "source": [
    "meets_criteria = 0\n",
    "t_pos, t_neg = 0.7, 0.7\n",
    "total = 0\n",
    "pos = 0\n",
    "neg = 0\n",
    "total_neg_conf = 0\n",
    "total_pos_conf = 0\n",
    "pos_samples = []\n",
    "neg_samples = []\n",
    "for result in data:\n",
    "    if result['model'] == 'gpt35':\n",
    "        total += 1\n",
    "        if result['backward_comparison'] == '2' and result['forward_comparison'] == '1':\n",
    "            pos_conf = 0.5 * (result['forward_comparison_probability'] + result['backward_comparison_probability'])\n",
    "            if result['forward_comparison_probability'] > t_pos and result['backward_comparison_probability'] > t_pos:\n",
    "                meets_criteria += 1\n",
    "                pos += 1\n",
    "                total_pos_conf += 0.5 * (result['forward_comparison_probability'] + result['backward_comparison_probability'])\n",
    "                result['forward_prompt'] = reconstruct(result, responses, articles)\n",
    "                result['backward_prompt'] = reconstruct(result, responses, articles, forward=False)\n",
    "                pos_samples.append(result)\n",
    "                pos_samples.append(reconstruct(result, responses, articles, forward=False))\n",
    "        if result['forward_comparison'] == '2' and result['backward_comparison'] == '1':\n",
    "            neg_conf = 0.5 * (result['forward_comparison_probability'] + result['backward_comparison_probability'])\n",
    "            if neg_conf > t_neg:\n",
    "                meets_criteria += 1\n",
    "                neg += 1\n",
    "                total_neg_conf += neg_conf\n",
    "                result['forward_prompt'] = reconstruct(result, responses, articles)\n",
    "                result['backward_prompt'] = reconstruct(result, responses, articles, forward=False)\n",
    "                neg_samples.append(result)\n",
    "print(meets_criteria, pos, neg)"
   ]
  },
  {
   "cell_type": "markdown",
   "metadata": {},
   "source": [
    "### Save Output"
   ]
  },
  {
   "cell_type": "code",
   "execution_count": 46,
   "metadata": {},
   "outputs": [],
   "source": [
    "json.dump({\"pos\": pos_samples, \"neg\": neg_samples}, open(\"vector_steering_samples.json\", \"w\"))"
   ]
  }
 ],
 "metadata": {
  "kernelspec": {
   "display_name": "Python 3 (ipykernel)",
   "language": "python",
   "name": "python3"
  },
  "language_info": {
   "codemirror_mode": {
    "name": "ipython",
    "version": 3
   },
   "file_extension": ".py",
   "mimetype": "text/x-python",
   "name": "python",
   "nbconvert_exporter": "python",
   "pygments_lexer": "ipython3",
   "version": "3.10.12"
  }
 },
 "nbformat": 4,
 "nbformat_minor": 4
}
