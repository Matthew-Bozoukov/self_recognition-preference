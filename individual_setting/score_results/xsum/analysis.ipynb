{
 "cells": [
  {
   "cell_type": "code",
   "execution_count": null,
   "metadata": {},
   "outputs": [],
   "source": [
    "import json\n",
    "\n",
    "\n",
    "avs = json.load(open(\"/local/scratch/droytbu/self_recognition/individual_setting/score_results/xsum/llama-4-scout-17b-16e-instruct_results.json\", \"r\"))\n",
    "\n",
    "\n",
    "\n",
    "\n",
    "\n"
   ]
  },
  {
   "cell_type": "code",
   "execution_count": 22,
   "metadata": {},
   "outputs": [],
   "source": [
    "score = lambda x: [{a['target_model']: sum([int(k) * v for k, v in a['scores'].items()])} for a in avs if a['key'] == x]"
   ]
  },
  {
   "cell_type": "code",
   "execution_count": 33,
   "metadata": {},
   "outputs": [
    {
     "data": {
      "text/plain": [
       "human          3.972744\n",
       "claude         4.216305\n",
       "gpt35          4.124586\n",
       "gpt4           4.332221\n",
       "llama          4.103715\n",
       "llama-scout    4.366531\n",
       "dtype: float64"
      ]
     },
     "execution_count": 33,
     "metadata": {},
     "output_type": "execute_result"
    }
   ],
   "source": [
    "keys = list(set([a['key'] for a in avs]))\n",
    "import pandas as pd\n",
    "\n",
    "pd.DataFrame([[list(v.values())[0] for v in score(key)] for key in keys], columns = ['human', 'claude', 'gpt35', 'gpt4', 'llama', 'llama-scout'], index=keys).mean(axis=0)"
   ]
  },
  {
   "cell_type": "code",
   "execution_count": 51,
   "metadata": {},
   "outputs": [
    {
     "data": {
      "text/plain": [
       "human          0.188711\n",
       "claude         0.426965\n",
       "gpt35          0.337092\n",
       "gpt4           0.501669\n",
       "llama          0.256123\n",
       "llama-scout    0.438387\n",
       "dtype: float64"
      ]
     },
     "execution_count": 51,
     "metadata": {},
     "output_type": "execute_result"
    }
   ],
   "source": [
    "cog = json.load(open(\"/local/scratch/droytbu/self_recognition/individual_setting/score_results/xsum/llama-4-scout-17b-16e-instruct_recognition_results.json\", \"r\"))\n",
    "keyset = {}\n",
    "for key in keys:\n",
    "    keyset[key] = [c['recognition_score'] for c in cog if c['key'] == key]\n",
    "recog_data = pd.DataFrame(keyset).T\n",
    "recog_data.columns = ['human', 'claude', 'gpt35', 'gpt4', 'llama', 'llama-scout']\n",
    "recog_data.index = keys\n",
    "recog_data.mean(axis=0)"
   ]
  }
 ],
 "metadata": {
  "kernelspec": {
   "display_name": ".hackenv",
   "language": "python",
   "name": "python3"
  },
  "language_info": {
   "codemirror_mode": {
    "name": "ipython",
    "version": 3
   },
   "file_extension": ".py",
   "mimetype": "text/x-python",
   "name": "python",
   "nbconvert_exporter": "python",
   "pygments_lexer": "ipython3",
   "version": "3.10.4"
  }
 },
 "nbformat": 4,
 "nbformat_minor": 2
}
